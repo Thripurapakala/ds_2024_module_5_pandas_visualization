{
 "cells": [
  {
   "cell_type": "markdown",
   "metadata": {},
   "source": [
    "# Pymaceuticals Inc.\n",
    "---\n",
    "\n",
    "### Analysis\n",
    "\n",
    "Pymaceuticals, Inc., a new pharmaceutical company that specializes in anti-cancer medications, screening for potential treatments for squamous cell carcinoma (SCC), a commonly occurring form of skin cancer, 249 mice who were identified with SCC tumors received treatment with a range of drug regimens. Over the course of 45 days, tumor development was observed and measured. The purpose of this study was to compare the performance of Pymaceuticals’ drug of interest, Capomulin, against the other treatment regimens.\n",
    "\n",
    "\n",
    "1.By analyzing data mean and medain, values more or less same by mean that the data is distributed very evenly so data is good va, std,std.err count is also good with data.\n",
    "\n",
    "2.Mice were equally distributed with weight, age, days tested on all medications with equal count of Male and Female mice.\n",
    "\n",
    "3.By analyzing with bar graphs comparing with drug with testing on mice Capomulin is working good and second in place is Ramicane.\n",
    "\n",
    "4.By analyzing with bar graphs comparing with drug with testing on mice Propriva is last in list(not wrking effectively).\n",
    "\n",
    "5.Comaratively with all the data Infubinol's potential has some outliers plotted with box plots."
   ]
  },
  {
   "cell_type": "code",
   "execution_count": null,
   "metadata": {
    "scrolled": false
   },
   "outputs": [],
   "source": [
    "# Dependencies and Setup\n",
    "import matplotlib.pyplot as plt\n",
    "import pandas as pd\n",
    "import scipy.stats as st\n",
    "import numpy as np\n",
    "\n",
    "# Study data files\n",
    "mouse_metadata_path = \"data/Mouse_metadata.csv\"\n",
    "study_results_path = \"data/Study_results.csv\"\n",
    "\n",
    "# Read the mouse data and the study results\n",
    "mouse_metadata = pd.read_csv(mouse_metadata_path)\n",
    "study_results = pd.read_csv(study_results_path)\n",
    "\n",
    "# Combine the data into a single DataFrame\n",
    "raw_df= pd.merge(study_results,mouse_metadata ,on = \"Mouse ID\", how = 'left' )\n",
    "\n",
    "# Display the data table for preview\n",
    "raw_df.head()"
   ]
  },
  {
   "cell_type": "code",
   "execution_count": null,
   "metadata": {},
   "outputs": [],
   "source": [
    "# Checking the number of mice.\n",
    "raw_df[\"Mouse ID\"].nunique()"
   ]
  },
  {
   "cell_type": "code",
   "execution_count": null,
   "metadata": {
    "scrolled": false
   },
   "outputs": [],
   "source": [
    "# Our data should be uniquely identified by Mouse ID and Timepoint\n",
    "# Get the duplicate mice by ID number that shows up for Mouse ID and Timepoint. \n",
    "\n",
    "duplicate_mouseids = raw_df.loc[raw_df.duplicated(subset=['Mouse ID', 'Timepoint']), 'Mouse ID'].unique()\n",
    "duplicate_mouseids\n"
   ]
  },
  {
   "cell_type": "code",
   "execution_count": null,
   "metadata": {
    "scrolled": false
   },
   "outputs": [],
   "source": [
    "# Optional: Get all the data for the duplicate mouse ID. \n",
    "\n",
    "mask2=raw_df.loc[raw_df[\"Mouse ID\"] == \"g989\"]\n",
    "mask2\n"
   ]
  },
  {
   "cell_type": "code",
   "execution_count": null,
   "metadata": {
    "scrolled": true
   },
   "outputs": [],
   "source": [
    "mask_test= raw_df[\"Mouse ID\"] != \"g989\"\n",
    "\n",
    "# data cleaning and dtypes\n",
    "clean_df = raw_df.loc[mask_test].reset_index(drop=True)\n",
    "\n",
    "clean_df.head()"
   ]
  },
  {
   "cell_type": "code",
   "execution_count": null,
   "metadata": {},
   "outputs": [],
   "source": [
    "# Checking the number of mice in the clean DataFrame.\n",
    "clean_df[\"Mouse ID\"].nunique()\n"
   ]
  },
  {
   "cell_type": "markdown",
   "metadata": {},
   "source": [
    "## Summary Statistics"
   ]
  },
  {
   "cell_type": "code",
   "execution_count": null,
   "metadata": {
    "scrolled": true
   },
   "outputs": [],
   "source": [
    "# Generate a summary statistics table of mean, median, variance, standard deviation, and SEM of the tumor volume for each regimen\n",
    "\n",
    "# Use groupby and summary statistical methods to calculate the following properties of each drug regimen: \n",
    "# mean, median, variance, standard deviation, and SEM of the tumor volume. \n",
    "# Assemble the resulting series into a single summary DataFrame.\n",
    "\n",
    "mean_tumor=clean_df.groupby([\"Drug Regimen\"])[\"Tumor Volume (mm3)\"].mean()\n",
    "median_tumor=clean_df.groupby([\"Drug Regimen\"])[\"Tumor Volume (mm3)\"].median()\n",
    "var_tumor= clean_df.groupby([\"Drug Regimen\"])[\"Tumor Volume (mm3)\"].var()\n",
    "std_dev_tumor = clean_df.groupby([\"Drug Regimen\"])[\"Tumor Volume (mm3)\"].std()\n",
    "std_err_tumor= clean_df.groupby([\"Drug Regimen\"])[\"Tumor Volume (mm3)\"].sem()\n",
    "\n",
    "\n",
    "data={\n",
    "    \"Mean Tumor Volume\": mean_tumor,\n",
    "    \"Median Tumor Volume\" : median_tumor,\n",
    "    \"Tumor Volume Variance\": var_tumor,\n",
    "    \"Tumor Volume Std.Dev.\": std_dev_tumor,\n",
    "    \"Tumot Volume Std.Err.\": std_err_tumor,  \n",
    "     }\n",
    "summary= pd.DataFrame(data)\n",
    "summary\n",
    "\n",
    "\n"
   ]
  },
  {
   "cell_type": "code",
   "execution_count": null,
   "metadata": {
    "scrolled": true
   },
   "outputs": [],
   "source": [
    "# A more advanced method to generate a summary statistics table of mean, median, variance, standard deviation,\n",
    "# and SEM of the tumor volume for each regimen (only one method is required in the solution)\n",
    "\n",
    "# Using the aggregation method, produce the same summary statistics in a single line\n",
    "\n",
    "\n",
    "summary_stats = clean_df.groupby('Drug Regimen').agg({\"Tumor Volume (mm3)\": ['mean', 'median', 'var', 'std', 'sem']})\n",
    "summary_stats\n"
   ]
  },
  {
   "cell_type": "markdown",
   "metadata": {},
   "source": [
    "## Bar and Pie Charts"
   ]
  },
  {
   "cell_type": "code",
   "execution_count": null,
   "metadata": {
    "scrolled": true
   },
   "outputs": [],
   "source": [
    "# Generate a bar plot showing the total number of rows (Mouse ID/Timepoints) for each drug regimen using Pandas.\n",
    "\n",
    "# Group the data by the drug regimen and count the number of rows for each group\n",
    "bar1 = clean_df.groupby('Drug Regimen').size().sort_values(ascending = False)\n",
    "\n",
    "# Create a bar plot using the Pandas DataFrame.plot() method\n",
    "bar1.plot(kind='bar', color='navy', figsize=(8, 2.5))\n",
    "\n",
    "# Add title and labels\n",
    "plt.title('Total Number of Rows for Each Drug Regimen')\n",
    "plt.xlabel('Drug Regimen')\n",
    "plt.ylabel('# of Observed Mouse Timepoints')\n",
    "\n",
    "plt.show()"
   ]
  },
  {
   "cell_type": "code",
   "execution_count": null,
   "metadata": {
    "scrolled": false
   },
   "outputs": [],
   "source": [
    "# Generate a bar plot showing the total number of rows (Mouse ID/Timepoints) for each drug regimen using pyplot.\n",
    "cols_agg={\n",
    "    \"Timepoint\": \"count\",\n",
    "    \"Mouse ID\" :\"count\"\n",
    "}\n",
    "barplot= clean_df.groupby([\"Drug Regimen\"]).agg(cols_agg).reset_index()\n",
    "barplot=barplot.rename(columns={'Timepoint': 'Timepoint Count'}).sort_values(by = 'Timepoint Count' ,ascending=False)\n",
    "barplot\n",
    "\n",
    "\n",
    "x= barplot[\"Drug Regimen\"]\n",
    "y=barplot[\"Timepoint Count\"]\n",
    "\n",
    "\n",
    "plt.figure(figsize=(8, 2.5))\n",
    "plt.bar(x, y, color='orange',alpha=0.90, align=\"center\")\n",
    "\n",
    "# Add labels and title\n",
    "plt.xlabel('Drug Regimen')\n",
    "plt.ylabel('# Of Observed Mouse Timepoints')\n",
    "plt.title('Total Number of Mouse ID/Timepoints')\n",
    "plt.xticks(rotation=45)  # Rotate x-axis labels for better readability\n",
    "\n",
    "#Display the plot\n",
    "plt.show()"
   ]
  },
  {
   "cell_type": "code",
   "execution_count": null,
   "metadata": {
    "scrolled": true
   },
   "outputs": [],
   "source": [
    "cols_agg={\n",
    "    \"Mouse ID\": \"count\"\n",
    "}\n",
    "male_female_count= clean_df.groupby([\"Sex\"]).agg(cols_agg).reset_index()\n",
    "male_female_count=male_female_count.rename(columns={'Mouse ID': 'Sex', 'Sex': 'index_sex'})\n",
    "male_female_count=male_female_count.set_index(\"index_sex\").sort_values(by ='Sex',ascending=False)\n",
    "male_female_count\n",
    "plot = male_female_count.plot.pie(y='Sex', figsize=(5,4.2), autopct='%1.1f%%', colors=[\"skyblue\",\"orange\"],legend= False)\n",
    "\n"
   ]
  },
  {
   "cell_type": "code",
   "execution_count": null,
   "metadata": {
    "scrolled": false
   },
   "outputs": [],
   "source": [
    "# Generate a pie plot showing the distribution of female versus male mice using pyplot\n",
    "\n",
    "# Data for the pie chart\n",
    "sizes = [958,922]  # Number of female and male mice\n",
    "labels = ['Male', 'Female']\n",
    "colors = ['skyblue','orange']\n",
    "explode = (0.05, 0)  # Explode the first slice (Female)\n",
    "\n",
    "# Create the pie chart\n",
    "plt.pie(sizes, labels=labels, colors=colors, explode=explode, autopct='%1.1f%%', shadow=True, startangle=0)\n",
    "plt.ylabel(\"Sex\")\n",
    "# Display the plot\n",
    "plt.show()"
   ]
  },
  {
   "cell_type": "markdown",
   "metadata": {},
   "source": [
    "## Quartiles, Outliers and Boxplots"
   ]
  },
  {
   "cell_type": "code",
   "execution_count": null,
   "metadata": {},
   "outputs": [],
   "source": [
    "# Calculate the final tumor volume of each mouse across four of the treatment regimens:  \n",
    "# Capomulin, Ramicane, Infubinol, and Ceftamin\n",
    "\n",
    "# Start by getting the last (greatest) timepoint for each mouse\n",
    "max_mouseid=clean_df.groupby([\"Mouse ID\"])[\"Timepoint\"].max()\n",
    "max_mouseid=max_mouseid.reset_index()\n",
    "max_mouseid\n",
    "\n",
    "# Merge this group df with the original DataFrame to get the tumor volume at the last timepoint\n",
    "merged_clean_df = pd.merge( max_mouseid,clean_df ,on= [\"Mouse ID\", \"Timepoint\"], how='left')\n",
    "merged_clean_df.head()\n"
   ]
  },
  {
   "cell_type": "code",
   "execution_count": null,
   "metadata": {},
   "outputs": [],
   "source": [
    "# Put treatments into a list for for loop (and later for plot labels)\n",
    "\n",
    "treatment_list=[\"Capomulin\", \"Ramicane\", \"Infubinol\", \"Ceftamin\"]\n",
    "\n",
    "# Create empty list to fill with tumor vol data (for plotting)\n",
    "tumor_vol_list=[]\n",
    "\n",
    "# Calculate the IQR and quantitatively determine if there are any potential outliers. \n",
    "\n",
    "for drug in treatment_list:\n",
    "    # Locate the rows which contain mice on each drug and get the tumor volumes\n",
    "    final_tumor_vol = merged_clean_df.loc[merged_clean_df[\"Drug Regimen\"] == drug, 'Tumor Volume (mm3)']\n",
    "    \n",
    "    # add subset\n",
    "    tumor_vol_list.append(final_tumor_vol)\n",
    "    \n",
    "    # Determine outliers using upper and lower bounds\n",
    "    quartiles = final_tumor_vol.quantile([.25,.5,.75])\n",
    "    lowerq = quartiles[0.25]\n",
    "    upperq = quartiles[0.75]\n",
    "    iqr = upperq-lowerq\n",
    "     # Determine outliers using upper and lower bounds\n",
    "    lower_bound = lowerq - (1.5*iqr)\n",
    "    upper_bound = upperq + (1.5*iqr)\n",
    "    \n",
    "    outliers = final_tumor_vol.loc[(final_tumor_vol < lower_bound) | (final_tumor_vol > upper_bound)]\n",
    "    print(f\"{drug}'s potential outliers: {outliers}\")  \n"
   ]
  },
  {
   "cell_type": "code",
   "execution_count": null,
   "metadata": {},
   "outputs": [],
   "source": [
    "# Generate a box plot that shows the distrubution of the tumor volume for each treatment group.\n",
    "orange_out = dict(markerfacecolor='red',markersize=12)\n",
    "plt.boxplot(tumor_vol_list, labels = treatment_list,flierprops=orange_out)\n",
    "plt.ylabel('Final Tumor Volume (mm3)')\n",
    "plt.show()"
   ]
  },
  {
   "cell_type": "markdown",
   "metadata": {},
   "source": [
    "## Line and Scatter Plots"
   ]
  },
  {
   "cell_type": "code",
   "execution_count": null,
   "metadata": {
    "scrolled": true
   },
   "outputs": [],
   "source": [
    "# Generate a line plot of tumor volume vs. time point for a single mouse treated with Capomulin\n",
    "\n",
    "# Filter the data for the Capomulin regimen\n",
    "capomulin_data = clean_df[clean_df[\"Drug Regimen\"] == \"Capomulin\"]\n",
    "\n",
    "# Select a single mouse\n",
    "#mouse_id = capomulin_data[\"Mouse ID\"].iloc[0]\n",
    "mouse_data = capomulin_data[capomulin_data[\"Mouse ID\"] == \"l509\"]\n",
    "\n",
    "# Create a line plot for tumor volume versus time point for the selected mouse\n",
    "plt.figure(figsize=(10,3))\n",
    "plt.plot(mouse_data[\"Timepoint\"], mouse_data[\"Tumor Volume (mm3)\"], marker='o', color='green', label=f\"Mouse l509\")\n",
    "plt.xlabel(\"Timepoint(days)\")\n",
    "plt.ylabel(\"Tumor Volume (mm3)\")\n",
    "plt.title(\"Capomulin treatment for Mouse l509\")\n",
    "plt.grid(True)\n",
    "plt.show()\n"
   ]
  },
  {
   "cell_type": "code",
   "execution_count": null,
   "metadata": {},
   "outputs": [],
   "source": [
    "# Generate a scatter plot of mouse weight vs. the average observed tumor volume for the entire Capomulin regimen\n",
    "\n",
    "# Filter data for the Capomulin regimen\n",
    "capomulin_data1 = clean_df[clean_df['Drug Regimen'] == 'Capomulin']\n",
    "\n",
    "# Group by 'Mouse ID' and calculate the average tumor volume for each mouse\n",
    "average_tumor_volume = capomulin_data1.groupby('Mouse ID')['Tumor Volume (mm3)'].mean()\n",
    "\n",
    "# Merge average tumor volume data with the original data to get the corresponding weight for each mouse\n",
    "merged_data = pd.merge(capomulin_data1, average_tumor_volume, on='Mouse ID')\n",
    "\n",
    "# Create a scatter plot of mouse weight vs. average tumor volume\n",
    "plt.figure(figsize=(10, 6))\n",
    "plt.scatter(merged_data['Weight (g)'], merged_data['Tumor Volume (mm3)_y'], color='blue', alpha=0.7)\n",
    "plt.title('Mouse Weight vs. Average Tumor Volume (Capomulin Regimen)')\n",
    "plt.xlabel('Weight (g)')\n",
    "plt.ylabel('Average Tumor Volume (mm3)')\n",
    "plt.grid(True)\n",
    "plt.show()"
   ]
  },
  {
   "cell_type": "markdown",
   "metadata": {},
   "source": [
    "## Correlation and Regression"
   ]
  },
  {
   "cell_type": "code",
   "execution_count": null,
   "metadata": {},
   "outputs": [],
   "source": [
    "# Calculate the correlation coefficient and a linear regression model \n",
    "# for mouse weight and average observed tumor volume for the entire Capomulin regimen\n",
    "# Assuming you have a DataFrame called 'capomulin_data' with columns 'Mouse Weight' and 'Tumor Volume (mm3)'\n",
    "# Replace 'capomulin_data' with your actual DataFrame\n",
    "# Filter data for the Capomulin regimen\n",
    "capomulin_data2 = clean_df[clean_df['Drug Regimen'] == 'Capomulin']\n",
    "\n",
    "# Group by 'Mouse ID' and calculate the average tumor volume for each mouse\n",
    "average_tumor_volume= capomulin_data2.groupby('Mouse ID')['Tumor Volume (mm3)'].mean()\n",
    "\n",
    "# Merge average tumor volume data with the original data to get the corresponding weight for each mouse\n",
    "merged_data1 = pd.merge(capomulin_data2, average_tumor_volume, on='Mouse ID')\n",
    "merged_data1\n",
    "# Calculate the correlation coefficient\n",
    "correlation = merged_data1['Weight (g)'].corr(merged_data1['Tumor Volume (mm3)_y'])\n",
    "print(f\"Correlation Coefficient: {correlation}\")\n",
    "\n",
    "# Perform linear regression\n",
    "slope, intercept, r_value, p_value, std_err = st.linregress(merged_data1['Weight (g)'], merged_data1['Tumor Volume (mm3)_y'])\n",
    "\n",
    "# Create the equation of the line\n",
    "line_eq = f\"y = {slope:.2f}x + {intercept:.2f}\"\n",
    "print(f\"Linear Regression Equation: {line_eq}\")\n",
    "\n",
    "# Calculate the predicted values\n",
    "predicted_values = slope * merged_data1['Weight (g)'] + intercept\n",
    "\n",
    "# Plot the data and the linear regression line\n",
    "plt.scatter(merged_data1['Weight (g)'], merged_data1['Tumor Volume (mm3)_y'])\n",
    "plt.plot(merged_data1['Weight (g)'], predicted_values, color='red')\n",
    "plt.xlabel('Mouse Weight')\n",
    "plt.ylabel('Tumor Volume (mm3)_y')\n",
    "plt.title('Mouse Weight vs Tumor Volume')\n",
    "plt.show()\n"
   ]
  },
  {
   "cell_type": "code",
   "execution_count": null,
   "metadata": {},
   "outputs": [],
   "source": []
  },
  {
   "cell_type": "code",
   "execution_count": null,
   "metadata": {},
   "outputs": [],
   "source": []
  }
 ],
 "metadata": {
  "anaconda-cloud": {},
  "kernelspec": {
   "display_name": "Python 3 (ipykernel)",
   "language": "python",
   "name": "python3"
  },
  "language_info": {
   "codemirror_mode": {
    "name": "ipython",
    "version": 3
   },
   "file_extension": ".py",
   "mimetype": "text/x-python",
   "name": "python",
   "nbconvert_exporter": "python",
   "pygments_lexer": "ipython3",
   "version": "3.11.7"
  }
 },
 "nbformat": 4,
 "nbformat_minor": 4
}
